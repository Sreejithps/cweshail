{
 "cells": [
  {
   "cell_type": "code",
   "execution_count": 78,
   "metadata": {},
   "outputs": [
    {
     "name": "stdout",
     "output_type": "stream",
     "text": [
      "\u001b[34mConnecting to --port=COM3 --baud=115200 \u001b[0m\n",
      "OSError: [Errno 2] ENOENT\n",
      "MicroPython v1.10-298-g47e76b527 on 2019-04-18; ESP32 module with ESP32\n",
      "Type \"help()\" for more information.\n",
      ">>>[reboot detected 0]repl is in normal command mode\n",
      "[\\r\\x03\\x03] b'\\r\\n>>> '\n",
      "[\\r\\x01] b'\\r\\n>>> \\r\\nraw REPL; CTRL-B to exit\\r\\n>' \u001b[34mReady.\n",
      "\u001b[0m"
     ]
    }
   ],
   "source": [
    "%serialconnect to --port=COM3 --baud=115200"
   ]
  },
  {
   "cell_type": "code",
   "execution_count": 86,
   "metadata": {},
   "outputs": [],
   "source": [
    "from machine import Pin \n",
    "import utime"
   ]
  },
  {
   "cell_type": "code",
   "execution_count": 80,
   "metadata": {},
   "outputs": [],
   "source": [
    "W_CLK = 17\n",
    "FQ_UD = 18\n",
    "DATA = 16\n",
    "\n"
   ]
  },
  {
   "cell_type": "code",
   "execution_count": 81,
   "metadata": {},
   "outputs": [],
   "source": [
    "def print_bin(val):\n",
    "    print(\"{0:{fill}40b}\".format(val, fill=0))"
   ]
  },
  {
   "cell_type": "code",
   "execution_count": 178,
   "metadata": {},
   "outputs": [
    {
     "name": "stdout",
     "output_type": "stream",
     "text": [
      "..\u001b[34m\n",
      "\n",
      "*** Sending Ctrl-C\n",
      "\n",
      "\u001b[0m\n"
     ]
    },
    {
     "name": "stderr",
     "output_type": "stream",
     "text": [
      "Traceback (most recent call last):\n",
      "  File \"<stdin>\", line 52, in <module>\n",
      "KeyboardInterrupt: \n"
     ]
    }
   ],
   "source": [
    "def pulseClock():\n",
    "    clock_pin(1)\n",
    "    clock_pin(0)\n",
    "    return\n",
    "\n",
    "def pulseFqUD():\n",
    "    fq_ud_pin(1)\n",
    "    fq_ud_pin(0)\n",
    "    return\n",
    "\n",
    "\n",
    "def tfr_byte(data):\n",
    "    for i in range (0,8):\n",
    "        data_pin(data & 0x01)\n",
    "        pulseClock()\n",
    "        data=data>>1\n",
    "    return\n",
    "\n",
    "\n",
    "\n",
    "def sendFrequency(frequency):\n",
    "    control_sequence = 0\n",
    "    control_sequence |= 0b00000001\n",
    "    control_sequence = control_sequence << 32\n",
    "    # Function to send frequency (assumes 30 xtal)\n",
    "    print(round((frequency*4294967296)/(6*30000000)))\n",
    "    freq=round((frequency*4294967296)/(6*30000000))\n",
    "    control_sequence |= freq\n",
    "    for b in range (0,5):\n",
    "        tfr_byte(control_sequence & 0xFF)\n",
    "        control_sequence=control_sequence>>8\n",
    "\n",
    "    pulseFqUD()\n",
    "    return\n",
    "    \n",
    "clock_pin = Pin(W_CLK, mode=Pin.OUT, value=0) \n",
    "fq_ud_pin = Pin(FQ_UD, mode=Pin.OUT, value=0) \n",
    "data_pin = Pin(DATA, mode=Pin.OUT, value=0) \n",
    "\n",
    "clock_pin(0)\n",
    "fq_ud_pin(0)\n",
    "data_pin(0)\n",
    "\n",
    "#pulseClock()\n",
    "#pulseFqUD()\n",
    "\n",
    "# choose frequency and\n",
    "frequency = 7050816.999\n",
    "\n",
    "sendFrequency(frequency)\n",
    "        \n",
    "\n",
    "# start the oscillator\n",
    "\n"
   ]
  },
  {
   "cell_type": "code",
   "execution_count": 91,
   "metadata": {},
   "outputs": [],
   "source": [
    "clock_pin(1)\n",
    "fq_ud_pin(1)\n",
    "data_pin(1)"
   ]
  }
 ],
 "metadata": {
  "kernelspec": {
   "display_name": "MicroPython - USB",
   "language": "micropython",
   "name": "micropython"
  },
  "language_info": {
   "codemirror_mode": "python",
   "file_extension": ".py",
   "mimetype": "text/python",
   "name": "micropython"
  }
 },
 "nbformat": 4,
 "nbformat_minor": 2
}
