{
 "cells": [
  {
   "cell_type": "code",
   "execution_count": 11,
   "metadata": {},
   "outputs": [
    {
     "name": "stdout",
     "output_type": "stream",
     "text": [
      "\u001b[34mConnecting to --port=COM3 --baud=115200 \u001b[0m\n",
      "OSError: [Errno 2] ENOENT\n",
      "MicroPython v1.10-298-g47e76b527 on 2019-04-18; ESP32 module with ESP32\n",
      "Type \"help()\" for more information.\n",
      ">>>[reboot detected 0]repl is in normal command mode\n",
      "[\\r\\x03\\x03] b'\\r\\n>>> '\n",
      "[\\r\\x01] b'\\r\\n>>> \\r\\nraw REPL; CTRL-B to exit\\r\\n>' \u001b[34mReady.\n",
      "\u001b[0m"
     ]
    }
   ],
   "source": [
    "%serialconnect to --port=COM3 --baud=115200"
   ]
  },
  {
   "cell_type": "code",
   "execution_count": 12,
   "metadata": {},
   "outputs": [],
   "source": [
    "from machine import Pin "
   ]
  },
  {
   "cell_type": "code",
   "execution_count": 13,
   "metadata": {},
   "outputs": [],
   "source": [
    "W_CLK = 17\n",
    "FQ_UD = 18\n",
    "DATA = 16\n"
   ]
  },
  {
   "cell_type": "code",
   "execution_count": 24,
   "metadata": {},
   "outputs": [
    {
     "name": "stdout",
     "output_type": "stream",
     "text": [
      "1002173376\n"
     ]
    }
   ],
   "source": [
    "def pulseClock():\n",
    "    clock_pin(1)\n",
    "    clock_pin(1)\n",
    "    clock_pin(1)\n",
    "    clock_pin(0)\n",
    "    return\n",
    "\n",
    "def pulseFqUD():\n",
    "    fq_ud_pin(1)\n",
    "    fq_ud_pin(1)\n",
    "    fq_ud_pin(1)\n",
    "    fq_ud_pin(0)\n",
    "    return\n",
    "\n",
    "\n",
    "def tfr_byte(data):\n",
    "    for i in range (0,8):\n",
    "        data_pin(data & 0x01)\n",
    "        pulseClock()\n",
    "        data=data>>1\n",
    "        return\n",
    "\n",
    "\n",
    "\n",
    "def sendFrequency(frequency):\n",
    "    # Function to send frequency (assumes 125MHz xtal)\n",
    "    print(round(frequency*4294967296/30000000))\n",
    "    freq=round(frequency*4294967296/30000000)\n",
    "    for b in range (0,4):\n",
    "        tfr_byte(freq & 0xFF)\n",
    "        freq=freq>>8\n",
    "        tfr_byte(0x00)\n",
    "        pulseFqUD()\n",
    "    return\n",
    "    \n",
    "clock_pin = Pin(W_CLK, mode=Pin.OUT, value=0) \n",
    "fq_ud_pin = Pin(FQ_UD, mode=Pin.OUT, value=0) \n",
    "data_pin = Pin(DATA, mode=Pin.OUT, value=0) \n",
    "\n",
    "clock_pin(0)\n",
    "fq_ud_pin(0)\n",
    "data_pin(0)\n",
    "\n",
    "pulseClock()\n",
    "pulseFqUD()\n",
    "\n",
    "# choose frequency and\n",
    "frequency = 7000100\n",
    "\n",
    "# start the oscillator\n",
    "sendFrequency(frequency)\n"
   ]
  }
 ],
 "metadata": {
  "kernelspec": {
   "display_name": "MicroPython - USB",
   "language": "micropython",
   "name": "micropython"
  },
  "language_info": {
   "codemirror_mode": "python",
   "file_extension": ".py",
   "mimetype": "text/python",
   "name": "micropython"
  }
 },
 "nbformat": 4,
 "nbformat_minor": 2
}
