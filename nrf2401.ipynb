{
 "cells": [
  {
   "cell_type": "code",
   "execution_count": 1,
   "metadata": {},
   "outputs": [
    {
     "name": "stdout",
     "output_type": "stream",
     "text": [
      "\u001b[34mConnecting to --port=COM4 --baud=115200 \u001b[0m\n",
      "\u001b[34mReady.\n",
      "\u001b[0m"
     ]
    }
   ],
   "source": [
    "%serialconnect to --port=COM4 --baud=115200"
   ]
  },
  {
   "cell_type": "code",
   "execution_count": 2,
   "metadata": {},
   "outputs": [],
   "source": [
    "from machine import Pin \n",
    "blue_led = Pin(2, mode=Pin.OUT, value=1) \n",
    "blue_led.on()"
   ]
  },
  {
   "cell_type": "code",
   "execution_count": 16,
   "metadata": {},
   "outputs": [
    {
     "name": "stdout",
     "output_type": "stream",
     "text": [
      "NRF24L01 pinout for test:\n",
      "    CE on 27\n",
      "    CSN on 26\n",
      "    SCK on 25\n",
      "    MISO on 32\n",
      "    MOSI on 33\n"
     ]
    }
   ],
   "source": [
    "\"\"\"Test for nrf24l01 module.  Portable between MicroPython targets.\"\"\"\n",
    "\n",
    "import sys\n",
    "import ustruct as struct\n",
    "import utime\n",
    "from machine import Pin, SPI\n",
    "from nrf24l01 import NRF24L01\n",
    "from nrf24l01 import *\n",
    "from micropython import const\n",
    "\n",
    "cfg = {'spi': -1, 'miso': 32, 'mosi': 33, 'sck': 25, 'csn': 26, 'ce': 27}\n",
    "\n",
    "\n",
    "print('NRF24L01 pinout for test:') \n",
    "print('    CE on', cfg['ce']) \n",
    "print('    CSN on', cfg['csn']) \n",
    "print('    SCK on', cfg['sck']) \n",
    "print('    MISO on', cfg['miso']) \n",
    "print('    MOSI on', cfg['mosi']) \n",
    "\n",
    "pipes = (b'\\xf0\\xf0\\xf0\\xf0\\xe1', b'\\xf0\\xf0\\xf0\\xf0\\xd2')\n",
    "\n",
    "csn = Pin(cfg['csn'], mode=Pin.OUT, value=1) \n",
    "ce = Pin(cfg['ce'], mode=Pin.OUT, value=0) \n",
    "spi = SPI(-1, sck=Pin(cfg['sck']), mosi=Pin(cfg['mosi']), miso=Pin(cfg['miso'])) \n",
    "nrf = NRF24L01(spi, csn, ce, payload_size=8) \n",
    "config = nrf.reg_read(CONFIG)\n",
    "config |= PWR_UP & ~PRIM_RX\n",
    "nrf.reg_write(CONFIG, config) \n",
    "rfreg = nrf.reg_read(RF_SETUP)\n",
    "rfreg = \n",
    "\n"
   ]
  }
 ],
 "metadata": {
  "kernelspec": {
   "display_name": "MicroPython - USB",
   "language": "micropython",
   "name": "micropython"
  },
  "language_info": {
   "codemirror_mode": "python",
   "file_extension": ".py",
   "mimetype": "text/python",
   "name": "micropython"
  }
 },
 "nbformat": 4,
 "nbformat_minor": 2
}
