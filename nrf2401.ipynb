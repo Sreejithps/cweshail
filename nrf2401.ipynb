{
 "cells": [
  {
   "cell_type": "code",
   "execution_count": 2,
   "metadata": {},
   "outputs": [
    {
     "name": "stdout",
     "output_type": "stream",
     "text": [
      "\u001b[34mConnecting to --port=COM3 --baud=115200 \u001b[0m\n",
      "OSError: [Errno 2] ENOENT\n",
      "MicroPython v1.10-298-g47e76b527 on 2019-04-18; ESP32 module with ESP32\n",
      "Type \"help()\" for more information.\n",
      ">>>[reboot detected 0]repl is in normal command mode\n",
      "[\\r\\x03\\x03] b'\\r\\n>>> '\n",
      "[\\r\\x01] b'\\r\\n>>> \\r\\nraw REPL; CTRL-B to exit\\r\\n>' \u001b[34mReady.\n",
      "\u001b[0m"
     ]
    }
   ],
   "source": [
    "%serialconnect to --port=COM3 --baud=115200"
   ]
  },
  {
   "cell_type": "code",
   "execution_count": 3,
   "metadata": {},
   "outputs": [],
   "source": [
    "from machine import Pin \n",
    "import sys\n",
    "import ustruct as struct\n",
    "import utime\n",
    "from machine import Pin, SPI\n",
    "from nrf24l01 import NRF24L01\n",
    "from nrf24l01 import *\n",
    "from micropython import const\n",
    "import time"
   ]
  },
  {
   "cell_type": "code",
   "execution_count": 4,
   "metadata": {},
   "outputs": [],
   "source": [
    "# nRF24L01+ registers\n",
    "CONFIG      = const(0x00)\n",
    "EN_RXADDR   = const(0x02)\n",
    "SETUP_AW    = const(0x03)\n",
    "SETUP_RETR  = const(0x04)\n",
    "RF_CH       = const(0x05)\n",
    "RF_SETUP    = const(0x06)\n",
    "STATUS      = const(0x07)\n",
    "RX_ADDR_P0  = const(0x0a)\n",
    "TX_ADDR     = const(0x10)\n",
    "RX_PW_P0    = const(0x11)\n",
    "FIFO_STATUS = const(0x17)\n",
    "DYNPD = const(0x1c)\n",
    "\n",
    "# CONFIG register\n",
    "EN_CRC      = const(0x08) # enable CRC\n",
    "CRCO        = const(0x04) # CRC encoding scheme; 0=1 byte, 1=2 bytes\n",
    "PWR_UP      = const(0x02) # 1=power up, 0=power down\n",
    "PRIM_RX     = const(0x01) # RX/TX control; 0=PTX, 1=PRX\n",
    "\n",
    "# RF_SETUP register\n",
    "POWER_0     = const(0x00) # -18 dBm\n",
    "POWER_1     = const(0x02) # -12 dBm\n",
    "POWER_2     = const(0x04) # -6 dBm\n",
    "POWER_3     = const(0x06) # 0 dBm\n",
    "SPEED_1M    = const(0x00)\n",
    "SPEED_2M    = const(0x08)\n",
    "SPEED_250K  = const(0x20)\n",
    "CONT_WAVE = 0x80\n",
    "PLL_LOCK = 0x10\n",
    "\n",
    "# STATUS register\n",
    "RX_DR       = const(0x40) # RX data ready; write 1 to clear\n",
    "TX_DS       = const(0x20) # TX data sent; write 1 to clear\n",
    "MAX_RT      = const(0x10) # max retransmits reached; write 1 to clear\n",
    "\n",
    "# FIFO_STATUS register\n",
    "RX_EMPTY    = const(0x01) # 1 if RX FIFO is empty\n",
    "\n",
    "# constants for instructions\n",
    "R_RX_PL_WID  = const(0x60) # read RX payload width\n",
    "R_RX_PAYLOAD = const(0x61) # read RX payload\n",
    "W_TX_PAYLOAD = const(0xa0) # write TX payload\n",
    "FLUSH_TX     = const(0xe1) # flush TX FIFO\n",
    "FLUSH_RX     = const(0xe2) # flush RX FIFO\n",
    "NOP          = const(0xff) # use to read STATUS register"
   ]
  },
  {
   "cell_type": "code",
   "execution_count": 5,
   "metadata": {},
   "outputs": [
    {
     "name": "stdout",
     "output_type": "stream",
     "text": [
      "NRF24L01 pinout for test:\n",
      "    CE on 27\n",
      "    CSN on 26\n",
      "    SCK on 25\n",
      "    MISO on 32\n",
      "    MOSI on 33\n"
     ]
    }
   ],
   "source": [
    "cfg = {'spi': -1, 'miso': 32, 'mosi': 33, 'sck': 25, 'csn': 26, 'ce': 27}\n",
    "\n",
    "print('NRF24L01 pinout for test:') \n",
    "print('    CE on', cfg['ce']) \n",
    "print('    CSN on', cfg['csn']) \n",
    "print('    SCK on', cfg['sck']) \n",
    "print('    MISO on', cfg['miso']) \n",
    "print('    MOSI on', cfg['mosi']) \n",
    "\n",
    "csn = Pin(cfg['csn'], mode=Pin.OUT, value=1) \n",
    "ce = Pin(cfg['ce'], mode=Pin.OUT, value=0) \n",
    "spi = SPI(-1, sck=Pin(cfg['sck']), mosi=Pin(cfg['mosi']), miso=Pin(cfg['miso'])) \n",
    "\n",
    "buf = bytearray(1)\n",
    "\n",
    "def print_bin(val):\n",
    "    print(\"{0:{fill}8b}\".format(val, fill=0))\n",
    "\n",
    "def reg_read(reg):\n",
    "    csn(0)\n",
    "    spi.readinto(buf, reg)\n",
    "    spi.readinto(buf)\n",
    "    csn(1)\n",
    "    return buf[0]\n",
    "\n",
    "def reg_write(reg, value):\n",
    "    csn(0)\n",
    "    spi.readinto(buf, 0x20 | reg)\n",
    "    ret = buf[0]\n",
    "    spi.readinto(buf, value)\n",
    "    csn(1)\n",
    "    return ret    \n",
    "    \n"
   ]
  },
  {
   "cell_type": "code",
   "execution_count": 6,
   "metadata": {},
   "outputs": [],
   "source": [
    "#Initialize SPI\n",
    "\n",
    "\n",
    "try:\n",
    "    master = spi.MASTER\n",
    "except AttributeError:\n",
    "    spi.init(baudrate=4000000, polarity=0, phase=0)\n",
    "else:\n",
    "    spi.init(master, baudrate=4000000, polarity=0, phase=0)\n",
    "# reset everything\n",
    "ce.init(ce.OUT, value=0)\n",
    "csn.init(csn.OUT, value=1)\n",
    "\n",
    "\n",
    "#nrf = NRF24L01(spi, csn, ce, payload_size=8, channel=1) \n"
   ]
  },
  {
   "cell_type": "code",
   "execution_count": 7,
   "metadata": {},
   "outputs": [
    {
     "name": "stdout",
     "output_type": "stream",
     "text": [
      "00000000\n",
      "00000010\n"
     ]
    }
   ],
   "source": [
    "config = 0\n",
    "reg_write(CONFIG, config)\n",
    "config = reg_read(CONFIG)\n",
    "print_bin(config)\n",
    "config |= PWR_UP\n",
    "config &= ~PRIM_RX \n",
    "reg_write(CONFIG, config)\n",
    "config = reg_read(CONFIG)\n",
    "print_bin(config)\n",
    "utime.sleep_ms(10)"
   ]
  },
  {
   "cell_type": "code",
   "execution_count": 8,
   "metadata": {},
   "outputs": [
    {
     "name": "stdout",
     "output_type": "stream",
     "text": [
      "00000000\n",
      "10010000\n",
      "10010000\n"
     ]
    }
   ],
   "source": [
    "rfreg = 0\n",
    "rfreg = reg_write(RF_SETUP, rfreg)\n",
    "rfreg = reg_read(RF_SETUP)\n",
    "print_bin(rfreg)\n",
    "rfreg |= CONT_WAVE\n",
    "rfreg |= PLL_LOCK\n",
    "rfreg |= POWER_0\n",
    "print_bin(rfreg)\n",
    "rfreg = reg_write(RF_SETUP, rfreg)\n",
    "rfreg = reg_read(RF_SETUP)\n",
    "print_bin(rfreg)\n",
    "reg_write(RF_CH, 2)\n",
    "ce(1)"
   ]
  },
  {
   "cell_type": "code",
   "execution_count": 9,
   "metadata": {},
   "outputs": [],
   "source": [
    "ce(1)"
   ]
  },
  {
   "cell_type": "code",
   "execution_count": 16,
   "metadata": {},
   "outputs": [
    {
     "name": "stdout",
     "output_type": "stream",
     "text": [
      "..................................\u001b[34m\n",
      "\n",
      "*** Sending Ctrl-C\n",
      "\n",
      "\u001b[0m"
     ]
    },
    {
     "name": "stderr",
     "output_type": "stream",
     "text": [
      "Traceback (most recent call last):\n",
      "  File \"<stdin>\", line 5, in <module>\n",
      "KeyboardInterrupt: \n"
     ]
    }
   ],
   "source": [
    "for i in range(1000):\n",
    "    ce(1)\n",
    "    utime.sleep_ms(100)\n",
    "    ce(0)\n",
    "    utime.sleep_ms(100)"
   ]
  },
  {
   "cell_type": "code",
   "execution_count": null,
   "metadata": {},
   "outputs": [],
   "source": []
  }
 ],
 "metadata": {
  "kernelspec": {
   "display_name": "MicroPython - USB",
   "language": "micropython",
   "name": "micropython"
  },
  "language_info": {
   "codemirror_mode": "python",
   "file_extension": ".py",
   "mimetype": "text/python",
   "name": "micropython"
  }
 },
 "nbformat": 4,
 "nbformat_minor": 2
}
